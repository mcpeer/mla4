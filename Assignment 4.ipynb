{
 "cells": [
  {
   "cell_type": "markdown",
   "metadata": {},
   "source": [
    "# Foundations of Data Mining: Assignment 4\n",
    "\n",
    "Please complete all assignments in this notebook. You should submit this notebook, as well as a PDF version (See File > Download as)."
   ]
  },
  {
   "cell_type": "code",
   "execution_count": 50,
   "metadata": {
    "collapsed": true
   },
   "outputs": [],
   "source": [
    "%matplotlib inline\n",
    "from preamble import *\n",
    "plt.rcParams['savefig.dpi'] = 100 # This controls the size of your figures\n",
    "# Comment out and restart notebook if you only want the last output of each cell.\n",
    "# InteractiveShell.ast_node_interactivity = \"all\""
   ]
  },
  {
   "cell_type": "markdown",
   "metadata": {},
   "source": [
    "## Backpropagation (3 points)\n",
    "\n",
    "Figure 1 illustrates a simple neural network model.\n",
    "\n",
    "![Figure 1](images/assignment/small-net.png)\n",
    "\n",
    "It has single input $x$, two layers with one neuron each. The activation function of both layers is ReLU. \n",
    "\n",
    "The parameters $w_0$ and $w_1$ (no biases) are initialized to the following values $w_0 = 1$ and $w_1 = 2$. Implement a single update step of the gradient descent algorithm by hand. Run the update state for the following two data points:\n",
    "\n",
    "* $(1, 2)$ \n",
    "* $(2, 3)$\n",
    "\n",
    "The goal is to model the relationship between two continuous variables. The learning rate is set to $0.1$\n",
    "\n",
    "Provide the solution in the following format:\n",
    "\n",
    "- A choice for a loss function \n",
    "- Compute graph for training the neural network\n",
    "- Partial derivative expression for each of the parameters in the model\n",
    "- The update expression for each of the parameters for each of the data-points\n",
    "- The final value of both parameters after the single step in the gradient descent algorithm\n",
    "\n"
   ]
  },
  {
   "cell_type": "markdown",
   "metadata": {},
   "source": [
    "- loss function: MSE\n",
    "- Compute graph: \n",
    "    \n",
    "    "
   ]
  },
  {
   "cell_type": "markdown",
   "metadata": {},
   "source": [
    "## Training Deep Models (3 points)\n",
    "\n",
    "The model in the example code below performs poorly as its depth increases. Train this model on the MNIST digit detection task. \n",
    "\n",
    "Examine its training performance by gradually increasing its depth:\n",
    "- Set the depth to 1 hidden layer\n",
    "- Set the depth to 2 hidden layers\n",
    "- Set the depth to 3 hidden layers\n",
    "\n",
    "Modify the model such that you improve its performance when its depth increases. Train the new model again for the different depths:\n",
    "- Set the depth to 1 hidden layer\n",
    "- Set the depth to 2 hidden layers\n",
    "- Set the depth to 3 hidden layers\n"
   ]
  },
  {
   "cell_type": "code",
   "execution_count": 2,
   "metadata": {
    "collapsed": false
   },
   "outputs": [
    {
     "name": "stderr",
     "output_type": "stream",
     "text": [
      "Using TensorFlow backend.\n"
     ]
    }
   ],
   "source": [
    "# (You don't need to change this part of the code)\n",
    "from __future__ import print_function\n",
    "import numpy as np\n",
    "np.random.seed(1234)\n",
    "\n",
    "from keras.datasets import mnist\n",
    "from keras.models import Sequential\n",
    "from keras.layers.core import Dense, Dropout, Activation\n",
    "from keras.optimizers import SGD\n",
    "from keras.utils import np_utils\n",
    "\n",
    "\n",
    "import matplotlib.pyplot as plt\n",
    "\n",
    "batch_size = 128\n",
    "nb_classes = 10\n",
    "nb_epoch = 10"
   ]
  },
  {
   "cell_type": "code",
   "execution_count": 3,
   "metadata": {
    "collapsed": false
   },
   "outputs": [
    {
     "name": "stdout",
     "output_type": "stream",
     "text": [
      "60000 train samples\n",
      "10000 test samples\n"
     ]
    }
   ],
   "source": [
    "# (You don't need to change this part of the code)\n",
    "# the data, shuffled and split between train and test sets\n",
    "(X_train, y_train), (X_test, y_test) = mnist.load_data()\n",
    "\n",
    "X_train = X_train.reshape(60000, 784)\n",
    "X_test = X_test.reshape(10000, 784)\n",
    "\n",
    "X_train = X_train.astype('float32')\n",
    "X_test = X_test.astype('float32')\n",
    "X_train /= 255\n",
    "X_test /= 255\n",
    "print(X_train.shape[0], 'train samples')\n",
    "print(X_test.shape[0], 'test samples')\n",
    "\n",
    "# convert class vectors to binary class matrices\n",
    "Y_train = np_utils.to_categorical(y_train, nb_classes)\n",
    "Y_test = np_utils.to_categorical(y_test, nb_classes)"
   ]
  },
  {
   "cell_type": "code",
   "execution_count": 4,
   "metadata": {
    "collapsed": true
   },
   "outputs": [],
   "source": [
    "# Use this parameter to change the depth of the model\n",
    "number_hidden_layers = 1  # Number of hidden layers"
   ]
  },
  {
   "cell_type": "code",
   "execution_count": 45,
   "metadata": {
    "collapsed": true
   },
   "outputs": [
    {
     "name": "stdout",
     "output_type": "stream",
     "text": [
      "_________________________________________________________________\n",
      "Layer (type)                 Output Shape              Param #   \n",
      "=================================================================\n",
      "dense_30 (Dense)             (None, 512)               401920    \n",
      "_________________________________________________________________\n",
      "dropout_20 (Dropout)         (None, 512)               0         \n",
      "_________________________________________________________________\n",
      "dense_31 (Dense)             (None, 10)                5130      \n",
      "_________________________________________________________________\n",
      "activation_20 (Activation)   (None, 10)                0         \n",
      "=================================================================\n",
      "Total params: 407,050.0\n",
      "Trainable params: 407,050.0\n",
      "Non-trainable params: 0.0\n",
      "_________________________________________________________________\n",
      "Train on 60000 samples, validate on 10000 samples\n",
      "Epoch 1/10\n",
      "60000/60000 [==============================] - 5s - loss: 2.0181 - acc: 0.3463 - val_loss: 1.6341 - val_acc: 0.7296\n",
      "Epoch 2/10\n",
      "60000/60000 [==============================] - 5s - loss: 1.4710 - acc: 0.6330 - val_loss: 1.1844 - val_acc: 0.7941\n",
      "Epoch 3/10\n",
      "60000/60000 [==============================] - 5s - loss: 1.1223 - acc: 0.7278 - val_loss: 0.9180 - val_acc: 0.8264\n",
      "Epoch 4/10\n",
      "60000/60000 [==============================] - 5s - loss: 0.9223 - acc: 0.7676 - val_loss: 0.7616 - val_acc: 0.8483\n",
      "Epoch 5/10\n",
      "60000/60000 [==============================] - 5s - loss: 0.7959 - acc: 0.7949 - val_loss: 0.6642 - val_acc: 0.8553\n",
      "Epoch 6/10\n",
      "60000/60000 [==============================] - 5s - loss: 0.7150 - acc: 0.8081 - val_loss: 0.5981 - val_acc: 0.8633\n",
      "Epoch 7/10\n",
      "60000/60000 [==============================] - 5s - loss: 0.6545 - acc: 0.8229 - val_loss: 0.5507 - val_acc: 0.8703\n",
      "Epoch 8/10\n",
      "60000/60000 [==============================] - 5s - loss: 0.6126 - acc: 0.8299 - val_loss: 0.5159 - val_acc: 0.8744\n",
      "Epoch 9/10\n",
      "60000/60000 [==============================] - 5s - loss: 0.5792 - acc: 0.8383 - val_loss: 0.4872 - val_acc: 0.8786\n",
      "Epoch 10/10\n",
      "60000/60000 [==============================] - 5s - loss: 0.5536 - acc: 0.8455 - val_loss: 0.4655 - val_acc: 0.8825\n",
      "Test score: 0.465494298959\n",
      "Test accuracy: 0.8825\n",
      "_________________________________________________________________\n",
      "Layer (type)                 Output Shape              Param #   \n",
      "=================================================================\n",
      "dense_32 (Dense)             (None, 512)               401920    \n",
      "_________________________________________________________________\n",
      "dropout_21 (Dropout)         (None, 512)               0         \n",
      "_________________________________________________________________\n",
      "dense_33 (Dense)             (None, 512)               262656    \n",
      "_________________________________________________________________\n",
      "activation_21 (Activation)   (None, 512)               0         \n",
      "_________________________________________________________________\n",
      "dropout_22 (Dropout)         (None, 512)               0         \n",
      "_________________________________________________________________\n",
      "dense_34 (Dense)             (None, 10)                5130      \n",
      "_________________________________________________________________\n",
      "activation_22 (Activation)   (None, 10)                0         \n",
      "=================================================================\n",
      "Total params: 669,706.0\n",
      "Trainable params: 669,706.0\n",
      "Non-trainable params: 0.0\n",
      "_________________________________________________________________\n",
      "Train on 60000 samples, validate on 10000 samples\n",
      "Epoch 1/10\n",
      "60000/60000 [==============================] - 10s - loss: 2.3288 - acc: 0.1229 - val_loss: 2.2327 - val_acc: 0.3044\n",
      "Epoch 2/10\n",
      "60000/60000 [==============================] - 10s - loss: 2.2493 - acc: 0.1699 - val_loss: 2.1499 - val_acc: 0.5823\n",
      "Epoch 3/10\n",
      "60000/60000 [==============================] - 11s - loss: 2.1580 - acc: 0.2418 - val_loss: 2.0408 - val_acc: 0.6124\n",
      "Epoch 4/10\n",
      "60000/60000 [==============================] - 9s - loss: 2.0333 - acc: 0.3334 - val_loss: 1.8857 - val_acc: 0.6296\n",
      "Epoch 5/10\n",
      "60000/60000 [==============================] - 10s - loss: 1.8638 - acc: 0.4276 - val_loss: 1.6820 - val_acc: 0.6527\n",
      "Epoch 6/10\n",
      "60000/60000 [==============================] - 9s - loss: 1.6614 - acc: 0.5031 - val_loss: 1.4556 - val_acc: 0.7058\n",
      "Epoch 7/10\n",
      "60000/60000 [==============================] - 11s - loss: 1.4529 - acc: 0.5665 - val_loss: 1.2480 - val_acc: 0.7306\n",
      "Epoch 8/10\n",
      "60000/60000 [==============================] - 12s - loss: 1.2743 - acc: 0.6173 - val_loss: 1.0848 - val_acc: 0.7531\n",
      "Epoch 9/10\n",
      "60000/60000 [==============================] - 10s - loss: 1.1325 - acc: 0.6547 - val_loss: 0.9583 - val_acc: 0.7816\n",
      "Epoch 10/10\n",
      "60000/60000 [==============================] - 9s - loss: 1.0264 - acc: 0.6872 - val_loss: 0.8651 - val_acc: 0.7920\n",
      "Test score: 0.865106915092\n",
      "Test accuracy: 0.792\n",
      "_________________________________________________________________\n",
      "Layer (type)                 Output Shape              Param #   \n",
      "=================================================================\n",
      "dense_35 (Dense)             (None, 512)               401920    \n",
      "_________________________________________________________________\n",
      "dropout_23 (Dropout)         (None, 512)               0         \n",
      "_________________________________________________________________\n",
      "dense_36 (Dense)             (None, 512)               262656    \n",
      "_________________________________________________________________\n",
      "activation_23 (Activation)   (None, 512)               0         \n",
      "_________________________________________________________________\n",
      "dropout_24 (Dropout)         (None, 512)               0         \n",
      "_________________________________________________________________\n",
      "dense_37 (Dense)             (None, 512)               262656    \n",
      "_________________________________________________________________\n",
      "activation_24 (Activation)   (None, 512)               0         \n",
      "_________________________________________________________________\n",
      "dropout_25 (Dropout)         (None, 512)               0         \n",
      "_________________________________________________________________\n",
      "dense_38 (Dense)             (None, 10)                5130      \n",
      "_________________________________________________________________\n",
      "activation_25 (Activation)   (None, 10)                0         \n",
      "=================================================================\n",
      "Total params: 932,362.0\n",
      "Trainable params: 932,362.0\n",
      "Non-trainable params: 0.0\n",
      "_________________________________________________________________\n",
      "Train on 60000 samples, validate on 10000 samples\n",
      "Epoch 1/10\n",
      "60000/60000 [==============================] - 14s - loss: 2.3602 - acc: 0.1041 - val_loss: 2.2998 - val_acc: 0.1135\n",
      "Epoch 2/10\n",
      "60000/60000 [==============================] - 13s - loss: 2.3469 - acc: 0.1055 - val_loss: 2.2981 - val_acc: 0.1010\n",
      "Epoch 3/10\n",
      "60000/60000 [==============================] - 13s - loss: 2.3374 - acc: 0.1080 - val_loss: 2.2889 - val_acc: 0.2679\n",
      "Epoch 4/10\n",
      "60000/60000 [==============================] - 13s - loss: 2.3281 - acc: 0.1114 - val_loss: 2.2884 - val_acc: 0.1028\n",
      "Epoch 5/10\n",
      "60000/60000 [==============================] - 15s - loss: 2.3195 - acc: 0.1150 - val_loss: 2.2806 - val_acc: 0.1014\n",
      "Epoch 6/10\n",
      "60000/60000 [==============================] - 15s - loss: 2.3125 - acc: 0.1191 - val_loss: 2.2739 - val_acc: 0.1028\n",
      "Epoch 7/10\n",
      "60000/60000 [==============================] - 14s - loss: 2.3029 - acc: 0.1245 - val_loss: 2.2685 - val_acc: 0.1361\n",
      "Epoch 8/10\n",
      "60000/60000 [==============================] - 14s - loss: 2.2967 - acc: 0.1288 - val_loss: 2.2631 - val_acc: 0.1637\n",
      "Epoch 9/10\n",
      "60000/60000 [==============================] - 15s - loss: 2.2889 - acc: 0.1353 - val_loss: 2.2533 - val_acc: 0.3087\n",
      "Epoch 10/10\n",
      "60000/60000 [==============================] - 14s - loss: 2.2783 - acc: 0.1463 - val_loss: 2.2424 - val_acc: 0.3595\n",
      "Test score: 2.24242398682\n",
      "Test accuracy: 0.3595\n"
     ]
    }
   ],
   "source": [
    "acc_results = []\n",
    "valacc_results = []\n",
    "\n",
    "for layer in range(1,4):  \n",
    "    number_hidden_layers = layer\n",
    "    # Model\n",
    "    model = Sequential()\n",
    "    model.add(Dense(512, input_shape=(784,), activation='sigmoid'))\n",
    "    model.add(Dropout(0.2))\n",
    "\n",
    "    while number_hidden_layers > 1:\n",
    "        model.add(Dense(512))\n",
    "        model.add(Activation('sigmoid'))\n",
    "        model.add(Dropout(0.2))\n",
    "        number_hidden_layers -= 1\n",
    "\n",
    "\n",
    "    model.add(Dense(10))\n",
    "    model.add(Activation('softmax'))\n",
    "\n",
    "    model.summary()\n",
    "\n",
    "    model.compile(loss='categorical_crossentropy',\n",
    "                  optimizer=SGD(),\n",
    "                  metrics=['accuracy'])\n",
    "    \n",
    "    # Training (You don't need to change this part of the code)\n",
    "    history = model.fit(X_train, Y_train,\n",
    "                        batch_size=batch_size, nb_epoch=nb_epoch,\n",
    "                        verbose=1, validation_data=(X_test, Y_test))\n",
    "    score = model.evaluate(X_test, Y_test, verbose=0)\n",
    "    print('Test score:', score[0])\n",
    "    print('Test accuracy:', score[1])\n",
    "\n",
    "    acc_results.append(history.history['acc'])\n",
    "    valacc_results.append(history.history['val_acc'])"
   ]
  },
  {
   "cell_type": "code",
   "execution_count": 46,
   "metadata": {
    "collapsed": false
   },
   "outputs": [
    {
     "data": {
      "application/pdf": "[encoded data removed]",
      "image/png": "[encoded data removed]",
      "text/plain": [
       "<matplotlib.figure.Figure at 0x1318e08d0>"
      ]
     },
     "metadata": {},
     "output_type": "display_data"
    }
   ],
   "source": [
    "fig, axes = plt.subplots(1, 3, figsize=(13, 4))\n",
    "fig.suptitle('Model with sigmoid activation')\n",
    "\n",
    "for ax, k, result in zip(axes, ['depth = 1','depth = 2','depth = 3'], range(0,3)):\n",
    "    ax.plot(acc_results[result])\n",
    "    ax.plot(valacc_results[result])    \n",
    "    ax.set_title('model accuracy: '+k)\n",
    "    ax.set_ylabel('accuracy')\n",
    "    ax.set_xlabel('epoch')\n",
    "    ax.legend(['train', 'test'], loc='upper left') \n",
    "    ax.set_ylim([0,1])"
   ]
  },
  {
   "cell_type": "code",
   "execution_count": 41,
   "metadata": {
    "collapsed": true
   },
   "outputs": [
    {
     "name": "stdout",
     "output_type": "stream",
     "text": [
      "_________________________________________________________________\n",
      "Layer (type)                 Output Shape              Param #   \n",
      "=================================================================\n",
      "dense_21 (Dense)             (None, 512)               401920    \n",
      "_________________________________________________________________\n",
      "dropout_14 (Dropout)         (None, 512)               0         \n",
      "_________________________________________________________________\n",
      "dense_22 (Dense)             (None, 10)                5130      \n",
      "_________________________________________________________________\n",
      "activation_14 (Activation)   (None, 10)                0         \n",
      "=================================================================\n",
      "Total params: 407,050.0\n",
      "Trainable params: 407,050.0\n",
      "Non-trainable params: 0.0\n",
      "_________________________________________________________________\n",
      "Train on 60000 samples, validate on 10000 samples\n",
      "Epoch 1/10\n",
      "60000/60000 [==============================] - 6s - loss: 1.1182 - acc: 0.7361 - val_loss: 0.5950 - val_acc: 0.8684\n",
      "Epoch 2/10\n",
      "60000/60000 [==============================] - 6s - loss: 0.5460 - acc: 0.8600 - val_loss: 0.4301 - val_acc: 0.8919\n",
      "Epoch 3/10\n",
      "60000/60000 [==============================] - 6s - loss: 0.4445 - acc: 0.8788 - val_loss: 0.3693 - val_acc: 0.9037\n",
      "Epoch 4/10\n",
      "60000/60000 [==============================] - 6s - loss: 0.3969 - acc: 0.8905 - val_loss: 0.3360 - val_acc: 0.9113\n",
      "Epoch 5/10\n",
      "60000/60000 [==============================] - 5s - loss: 0.3665 - acc: 0.8968 - val_loss: 0.3145 - val_acc: 0.9159\n",
      "Epoch 6/10\n",
      "60000/60000 [==============================] - 6s - loss: 0.3451 - acc: 0.9032 - val_loss: 0.2970 - val_acc: 0.9189\n",
      "Epoch 7/10\n",
      "60000/60000 [==============================] - 6s - loss: 0.3263 - acc: 0.9083 - val_loss: 0.2839 - val_acc: 0.9217\n",
      "Epoch 8/10\n",
      "60000/60000 [==============================] - 7s - loss: 0.3125 - acc: 0.9117 - val_loss: 0.2729 - val_acc: 0.9236\n",
      "Epoch 9/10\n",
      "60000/60000 [==============================] - 7s - loss: 0.2989 - acc: 0.9153 - val_loss: 0.2625 - val_acc: 0.9272\n",
      "Epoch 10/10\n",
      "60000/60000 [==============================] - 6s - loss: 0.2886 - acc: 0.9191 - val_loss: 0.2537 - val_acc: 0.9297\n",
      "Test score: 0.253701646206\n",
      "Test accuracy: 0.9297\n",
      "dict_keys(['loss', 'acc', 'val_acc', 'val_loss'])\n",
      "_________________________________________________________________\n",
      "Layer (type)                 Output Shape              Param #   \n",
      "=================================================================\n",
      "dense_23 (Dense)             (None, 512)               401920    \n",
      "_________________________________________________________________\n",
      "dropout_15 (Dropout)         (None, 512)               0         \n",
      "_________________________________________________________________\n",
      "dense_24 (Dense)             (None, 512)               262656    \n",
      "_________________________________________________________________\n",
      "activation_15 (Activation)   (None, 512)               0         \n",
      "_________________________________________________________________\n",
      "dropout_16 (Dropout)         (None, 512)               0         \n",
      "_________________________________________________________________\n",
      "dense_25 (Dense)             (None, 10)                5130      \n",
      "_________________________________________________________________\n",
      "activation_16 (Activation)   (None, 10)                0         \n",
      "=================================================================\n",
      "Total params: 669,706.0\n",
      "Trainable params: 669,706.0\n",
      "Non-trainable params: 0.0\n",
      "_________________________________________________________________\n",
      "Train on 60000 samples, validate on 10000 samples\n",
      "Epoch 1/10\n",
      "60000/60000 [==============================] - 10s - loss: 1.2180 - acc: 0.6873 - val_loss: 0.5434 - val_acc: 0.8694\n",
      "Epoch 2/10\n",
      "60000/60000 [==============================] - 9s - loss: 0.5353 - acc: 0.8480 - val_loss: 0.3778 - val_acc: 0.8987\n",
      "Epoch 3/10\n",
      "60000/60000 [==============================] - 9s - loss: 0.4270 - acc: 0.8764 - val_loss: 0.3259 - val_acc: 0.9095\n",
      "Epoch 4/10\n",
      "60000/60000 [==============================] - 10s - loss: 0.3778 - acc: 0.8899 - val_loss: 0.2955 - val_acc: 0.9154\n",
      "Epoch 5/10\n",
      "60000/60000 [==============================] - 9s - loss: 0.3436 - acc: 0.8998 - val_loss: 0.2754 - val_acc: 0.9206\n",
      "Epoch 6/10\n",
      "60000/60000 [==============================] - 9s - loss: 0.3196 - acc: 0.9075 - val_loss: 0.2563 - val_acc: 0.9276\n",
      "Epoch 7/10\n",
      "60000/60000 [==============================] - 9s - loss: 0.3010 - acc: 0.9125 - val_loss: 0.2408 - val_acc: 0.9315\n",
      "Epoch 8/10\n",
      "60000/60000 [==============================] - 9s - loss: 0.2819 - acc: 0.9189 - val_loss: 0.2286 - val_acc: 0.9342\n",
      "Epoch 9/10\n",
      "60000/60000 [==============================] - 9s - loss: 0.2670 - acc: 0.9226 - val_loss: 0.2166 - val_acc: 0.9388\n",
      "Epoch 10/10\n",
      "60000/60000 [==============================] - 9s - loss: 0.2546 - acc: 0.9257 - val_loss: 0.2085 - val_acc: 0.9402\n",
      "Test score: 0.208472842467\n",
      "Test accuracy: 0.9402\n",
      "dict_keys(['loss', 'acc', 'val_acc', 'val_loss'])\n",
      "_________________________________________________________________\n",
      "Layer (type)                 Output Shape              Param #   \n",
      "=================================================================\n",
      "dense_26 (Dense)             (None, 512)               401920    \n",
      "_________________________________________________________________\n",
      "dropout_17 (Dropout)         (None, 512)               0         \n",
      "_________________________________________________________________\n",
      "dense_27 (Dense)             (None, 512)               262656    \n",
      "_________________________________________________________________\n",
      "activation_17 (Activation)   (None, 512)               0         \n",
      "_________________________________________________________________\n",
      "dropout_18 (Dropout)         (None, 512)               0         \n",
      "_________________________________________________________________\n",
      "dense_28 (Dense)             (None, 512)               262656    \n",
      "_________________________________________________________________\n",
      "activation_18 (Activation)   (None, 512)               0         \n",
      "_________________________________________________________________\n",
      "dropout_19 (Dropout)         (None, 512)               0         \n",
      "_________________________________________________________________\n",
      "dense_29 (Dense)             (None, 10)                5130      \n",
      "_________________________________________________________________\n",
      "activation_19 (Activation)   (None, 10)                0         \n",
      "=================================================================\n",
      "Total params: 932,362.0\n",
      "Trainable params: 932,362.0\n",
      "Non-trainable params: 0.0\n",
      "_________________________________________________________________\n",
      "Train on 60000 samples, validate on 10000 samples\n",
      "Epoch 1/10\n",
      "60000/60000 [==============================] - 13s - loss: 1.4003 - acc: 0.6044 - val_loss: 0.5623 - val_acc: 0.8501\n",
      "Epoch 2/10\n",
      "60000/60000 [==============================] - 13s - loss: 0.5711 - acc: 0.8303 - val_loss: 0.3675 - val_acc: 0.8955\n",
      "Epoch 3/10\n",
      "60000/60000 [==============================] - 13s - loss: 0.4371 - acc: 0.8695 - val_loss: 0.3067 - val_acc: 0.9110\n",
      "Epoch 4/10\n",
      "60000/60000 [==============================] - 14s - loss: 0.3787 - acc: 0.8867 - val_loss: 0.2763 - val_acc: 0.9205\n",
      "Epoch 5/10\n",
      "60000/60000 [==============================] - 13s - loss: 0.3397 - acc: 0.9003 - val_loss: 0.2531 - val_acc: 0.9252\n",
      "Epoch 6/10\n",
      "60000/60000 [==============================] - 13s - loss: 0.3094 - acc: 0.9086 - val_loss: 0.2327 - val_acc: 0.9335\n",
      "Epoch 7/10\n",
      "60000/60000 [==============================] - 14s - loss: 0.2882 - acc: 0.9158 - val_loss: 0.2175 - val_acc: 0.9360\n",
      "Epoch 8/10\n",
      "60000/60000 [==============================] - 15s - loss: 0.2683 - acc: 0.9207 - val_loss: 0.2040 - val_acc: 0.9392\n",
      "Epoch 9/10\n",
      "60000/60000 [==============================] - 14s - loss: 0.2508 - acc: 0.9257 - val_loss: 0.1911 - val_acc: 0.9441\n",
      "Epoch 10/10\n",
      "60000/60000 [==============================] - 13s - loss: 0.2367 - acc: 0.9307 - val_loss: 0.1797 - val_acc: 0.9471\n",
      "Test score: 0.179688579264\n",
      "Test accuracy: 0.9471\n",
      "dict_keys(['loss', 'acc', 'val_acc', 'val_loss'])\n"
     ]
    }
   ],
   "source": [
    "acc_relu = []\n",
    "valacc_relu = []\n",
    "\n",
    "# now try with different activation functions\n",
    "for layer in range(1,4):  \n",
    "    number_hidden_layers = layer\n",
    "    # Model\n",
    "    model = Sequential()\n",
    "    model.add(Dense(512, input_shape=(784,), activation='relu'))\n",
    "    model.add(Dropout(0.2))\n",
    "\n",
    "    while number_hidden_layers > 1:\n",
    "        model.add(Dense(512))\n",
    "        model.add(Activation('relu'))\n",
    "        model.add(Dropout(0.2))\n",
    "        number_hidden_layers -= 1\n",
    "\n",
    "\n",
    "    model.add(Dense(10))\n",
    "    model.add(Activation('softmax'))\n",
    "\n",
    "    model.summary()\n",
    "\n",
    "    model.compile(loss='categorical_crossentropy',\n",
    "                  optimizer=SGD(),\n",
    "                  metrics=['accuracy'])\n",
    "    \n",
    "    # Training (You don't need to change this part of the code)\n",
    "    history = model.fit(X_train, Y_train,\n",
    "                        batch_size=batch_size, nb_epoch=nb_epoch,\n",
    "                        verbose=1, validation_data=(X_test, Y_test))\n",
    "    score = model.evaluate(X_test, Y_test, verbose=0)\n",
    "    print('Test score:', score[0])\n",
    "    print('Test accuracy:', score[1])\n",
    "\n",
    "    # list all data in history\n",
    "    print(history.history.keys())\n",
    "    # summarize history for accuracy\n",
    "    #plt.plot(history.history['acc'])\n",
    "    acc_relu.append(history.history['acc'])\n",
    "    \n",
    "    #plt.plot(history.history['val_acc'])\n",
    "    valacc_relu.append(history.history['val_acc'])\n",
    "    \n",
    "    #plt.title('model accuracy')\n",
    "    #plt.ylabel('accuracy')\n",
    "    #plt.xlabel('epoch')\n",
    "    #plt.legend(['train', 'test'], loc='upper left')\n",
    "    #plt.show()\n",
    "\n"
   ]
  },
  {
   "cell_type": "code",
   "execution_count": 44,
   "metadata": {
    "collapsed": false
   },
   "outputs": [
    {
     "data": {
      "application/pdf": "[encoded data removed]",
      "image/png": "[encoded data removed]",
      "text/plain": [
       "<matplotlib.figure.Figure at 0x131f12b00>"
      ]
     },
     "metadata": {},
     "output_type": "display_data"
    }
   ],
   "source": [
    "fig, axes = plt.subplots(1, 3, figsize=(13, 4))\n",
    "fig.suptitle('Model with ReLu activation')\n",
    "\n",
    "for ax, k, result in zip(axes, ['depth = 1','depth = 2','depth = 3'], range(0,3)):\n",
    "    ax.plot(acc_relu[result])\n",
    "    ax.plot(valacc_relu[result])    \n",
    "    ax.set_title('model accuracy: '+k)\n",
    "    ax.set_ylabel('accuracy')\n",
    "    ax.set_xlabel('epoch')\n",
    "    ax.legend(['train', 'test'], loc='upper left') \n",
    "    ax.set_ylim([0,1])"
   ]
  },
  {
   "cell_type": "markdown",
   "metadata": {},
   "source": [
    "Submit an explanation for the limitation of the original model. Explain your modification. "
   ]
  },
  {
   "cell_type": "markdown",
   "metadata": {},
   "source": [
    "The problem the original model faces when depth increases is the \\textbf{vanishing gradient problem}. Basically, the speed of learning drops heavily in the earlier layers resulting in a model that cannot learn well from the inputs. Because the gradients get so small, even a large difference in inputs does not result in a (significant) change in outputs. \n",
    "\n",
    "This problem arises from the choice of activation function. The 'Sigmoid' function is used, and to understand what goes wrong we need to look at the gradients. \n"
   ]
  },
  {
   "cell_type": "markdown",
   "metadata": {},
   "source": [
    "## Convolutional Neural Networks for Filtering (2 points)\n",
    "\n",
    "Convolutional neural networks are well suited for analyzing images. They can be used to apply various image filtering operations. \n",
    "\n",
    "The goal of this exercise is to design a CNN model that applies 2 filters to its input images. The input images are 128x128 RGB color images, encoded as 128x128x3 tensor with floating point value normalized between 0 and 1. The RGB format is such that the pixels address by: [:, :, 0] encode the red pixels of the image, the pixels addressed by [:, :, 1] define the green pixels and pixels addressed by [:, :, 2] define the blue pixels. \n",
    "\n",
    "Design a convolutional neural network that will: \n",
    "1. Apply the sepia filter to the image\n",
    "2. Apply Gaussian smoothing to the image\n",
    "\n",
    "Use the specification of the sepia and the Gaussian filter below. \n",
    "\n",
    "You answer should contain:\n",
    "    - The definition of the architecture of the CNN\n",
    "        - Number of layers\n",
    "        - Number of filters per layer\n",
    "        - Shape of the filter per layer\n",
    "    - Values of each of the parameters of the CNN when using a 5x5 Gaussian smoothing filter\n",
    "    - The dimensions of the output image when a 5x5 Gaussian smothing is applied\n",
    "\n",
    "\n",
    "The sepia effect gives warmth and a feel of vintage to photographs. The sepia filter is defined as:\n",
    "\n",
    "\\begin{equation}\n",
    "R_o = (R_i * .393) + (G_i *.769) + (B_i * .189)\\\\\n",
    "G_o = (R_i * .349) + (G_i *.686) + (B_i * .168)\\\\\n",
    "B_o = (R_i * .272) + (G_i *.534) + (B_i * .131)\n",
    "\\end{equation}\n",
    "\n",
    "Gaussian blurring is an effect that reduces the noise and details in an image. \n",
    "Gaussian smoothing filter:\n",
    "$$G(x, y)=\\frac{1}{2\\pi\\sigma^2}e^{-\\frac{x^2+y^2}{2\\sigma^2}}$$\n",
    "\n",
    "- A discretized version of the filter is given by the following table:\n",
    "\n",
    "<table>\n",
    "<tr><td>1</td><td>4</td><td>7</td><td>4</td><td>1</td></tr>\n",
    "<tr><td>4</td><td>16</td><td>26</td><td>16</td><td>4</td></tr>\n",
    "<tr><td>7</td><td>26</td><td>41</td><td>26</td><td>7</td></tr>\n",
    "<tr><td>4</td><td>16</td><td>26</td><td>16</td><td>4</td></tr>\n",
    "<tr><td>1</td><td>4</td><td>7</td><td>4</td><td>1</td></tr>\n",
    "</table>\n",
    "\n",
    "\n",
    "- To normalize the filter response, each value should divided by $273$. This is a truncated discretized Gaussian filter with a $\\sigma$ of 1.\n"
   ]
  },
  {
   "cell_type": "markdown",
   "metadata": {},
   "source": [
    "    - The definition of the architecture of the CNN\n",
    "        - Number of layers\n",
    "        \n",
    "        2 layers\n",
    "        \n",
    "        - Number of filters per layer\n",
    "        \n",
    "        1 per layer\n",
    "        \n",
    "        - Shape of the filter per layer\n",
    "        \n",
    "        first layer: 1x1x3\n",
    "        second layer: 5x5x3\n",
    "        \n",
    "    - Values of each of the parameters of the CNN when using a 5x5 Gaussian smoothing filter\n",
    "    \n",
    "    first filter: \n",
    "    neuron 1 weights of the filter: [.393 .769 0.189] \n",
    "    neuron 2 weights of the filter: [.349 .686 0.168]\n",
    "    neuron 3 weights of the filter: [.272 .534 0.131]\n",
    "    \n",
    "    second filter: 5x5x3 \n",
    "    3 neurons. every neuron has 75 weights. \n",
    "    neuron 1 will gaussian RED color: 25 weights: 5x5 with the filter values / 273, the two dimensions (50 weigths) behind it 0\n",
    "    \n",
    "    neuron 2 will gaussian Blue color: 5x5 0, then 5x5 with filter values /273, then again 5x5 0\n",
    "    \n",
    "    neuron 3 will gaussian Blue color: 5x5 0, 5x5 0, then 5x5 with filter values /273    \n",
    "    \n",
    "    - The dimensions of the output image when a 5x5 Gaussian smothing is applied\n",
    "    Note that all filters will produce a weighted sum over the filterarea. The dimensions of the output image will be a 124 times 124 times 3 'image'. "
   ]
  },
  {
   "cell_type": "markdown",
   "metadata": {},
   "source": [
    "## Model Design (2 Points)\n",
    "\n",
    "Various decisions need to be made in a modeling process to address specific properties of the data and the modeling goal. In this task, you are given a description of a data structure and a goal for which you need to design a model. \n",
    "\n",
    "Produce a figure depicting your model. Briefly explain the figure and justify all decisions made in the modeling process. In detail, describe at least: \n",
    "- Input data format\n",
    "- Number of layers\n",
    "- Type of layers (Dense, Recurrent, Convolutional - 1D, 2D, 3D)\n",
    "- Regularization\n",
    "- Model output ----- caption? \n",
    "- Loss function  ---- 0/1 loss\n",
    "\n",
    "\n",
    "The training and execution procedures for the model may differ, so you can use different descriptions for both. \n",
    "\n",
    "*Data and goal description:*\n",
    "\n",
    "The goal of this task is to generate captions for short video clips. \n",
    "\n",
    "The video data is structured as sequences of color images. The model needs to be able to process a number of consecutive images that form a short video clip. The training data consists of video clips (few seconds) and a short caption (5-10 words). \n",
    "\n",
    "For simplicity, the accuracy of the model is evaluated on the exact prediction of the caption. In other words, the model needs to produce correctly the specific words in a specific order for each video. "
   ]
  },
  {
   "cell_type": "markdown",
   "metadata": {
    "collapsed": true
   },
   "source": [
    "## MNIST Calculator (5 points)\n",
    "\n",
    "During the lectures you have seen a CNN model that can be successfully trained to classify the MNIST images. You have also seen how a RNN model that can be trained to implement addition of two numbers. \n",
    "\n",
    "Using the KERAS (or TensorFlow) library, design and train a model that can learn how to add numbers directly from the MNIST image data. More specifically, the model should input a sequence of a set of images and produces a cumulative sum of the numbers represented by the digits in the images.\n",
    "\n",
    "For example:\n",
    "\n",
    "Input 1: ![294](images/294.png)\n",
    "\n",
    "Input 2: ![61](images/61.png)\n",
    "\n",
    "Output: 355\n",
    "\n",
    "\n"
   ]
  },
  {
   "cell_type": "code",
   "execution_count": 7,
   "metadata": {
    "collapsed": false
   },
   "outputs": [
    {
     "name": "stdout",
     "output_type": "stream",
     "text": [
      "x_train shape: (60000, 6, 28, 28, 1)\n",
      "60000 train samples\n",
      "10000 test samples\n",
      "done preprocessing\n"
     ]
    }
   ],
   "source": [
    "## Imports\n",
    "from __future__ import print_function\n",
    "import keras\n",
    "from keras.datasets import mnist\n",
    "from keras.models import Sequential, Model\n",
    "from keras.layers import Dense, Dropout, Flatten, Reshape, Input, TimeDistributed\n",
    "from keras.layers import Conv2D, MaxPooling2D\n",
    "from keras import backend as K\n",
    "import numpy as np\n",
    "\n",
    "class CharacterTable(object):\n",
    "    '''\n",
    "    Given a set of characters:\n",
    "    + Encode them to a one hot integer representation\n",
    "    + Decode the one hot integer representation to their character output\n",
    "    + Decode a vector of probabilities to their character output\n",
    "    '''\n",
    "    def __init__(self, chars, maxlen):\n",
    "        self.chars = sorted(set(chars))\n",
    "        self.char_indices = dict((c, i) for i, c in enumerate(self.chars))\n",
    "        self.indices_char = dict((i, c) for i, c in enumerate(self.chars))\n",
    "        self.maxlen = maxlen\n",
    "\n",
    "    def encode(self, C, maxlen=None):\n",
    "        maxlen = maxlen if maxlen else self.maxlen\n",
    "        X = np.zeros((maxlen, len(self.chars)))\n",
    "        for i, c in enumerate(C):\n",
    "            X[i, self.char_indices[c]] = 1\n",
    "        return X\n",
    "\n",
    "    def decode(self, X, calc_argmax=True):\n",
    "        if calc_argmax:\n",
    "            X = X.argmax(axis=-1)\n",
    "        return ''.join(self.indices_char[x] for x in X)\n",
    "\n",
    "# Training parameters\n",
    "batch_size = 128\n",
    "num_classes = 10\n",
    "epochs = 1\n",
    "\n",
    "\n",
    "#\n",
    "#\n",
    "# Data preparation\n",
    "# \n",
    "#\n",
    "\n",
    "# input image dimensions\n",
    "img_rows, img_cols = 28, 28\n",
    "\n",
    "# the data, shuffled and split between train and test sets\n",
    "(x_train, y_train), (x_test, y_test) = mnist.load_data()\n",
    "\n",
    "Index_train = []\n",
    "Index_test = []\n",
    "for i in range(0,6):\n",
    "    temp = np.random.choice(len(x_train), len(x_train), replace = False)\n",
    "    temp2 = np.random.choice(len(x_test), len(x_test), replace = False)\n",
    "    Index_train.append(temp)\n",
    "    Index_test.append(temp2)\n",
    "    \n",
    "# create arrays of 2x3 = 6 images form the MNIST dataset. \n",
    "xtrain =  np.array([x_train[Index_train[0]], x_train[Index_train[1]], x_train[Index_train[2]], x_train[Index_train[3]], x_train[Index_train[4]], x_train[Index_train[5]]])\n",
    "ytrain =  np.array([y_train[Index_train[0]], y_train[Index_train[1]], y_train[Index_train[2]], y_train[Index_train[3]], y_train[Index_train[4]], y_train[Index_train[5]]])\n",
    "\n",
    "xtest =  np.array([x_test[Index_test[0]], x_test[Index_test[1]], x_test[Index_test[2]], x_test[Index_test[3]], x_test[Index_test[4]], x_test[Index_test[5]]])\n",
    "ytest =  np.array([y_test[Index_test[0]], y_test[Index_test[1]], y_test[Index_test[2]], y_test[Index_test[3]], y_test[Index_test[4]], y_test[Index_test[5]]])\n",
    "\n",
    "# convert class vectors to binary class matrices\n",
    "y_train_cnn = np.zeros((6,60000,10))\n",
    "y_test_cnn = np.zeros((6,10000,10))\n",
    "for i in range(0,6):\n",
    "    y_train_cnn[i] = keras.utils.to_categorical(ytrain[i], num_classes)\n",
    "    y_test_cnn[i] = keras.utils.to_categorical(ytest[i], num_classes)\n",
    "\n",
    "y_train = np.swapaxes(y_train_cnn,0,1)\n",
    "y_test = np.swapaxes(y_test_cnn,0,1)\n",
    "\n",
    "x_train = np.swapaxes(xtrain,0,1)\n",
    "x_test = np.swapaxes(xtest,0,1)\n",
    "\n",
    "# prepare for cnn\n",
    "if K.image_data_format() == 'channels_first':\n",
    "    x_train = x_train.reshape(x_train.shape[0],x_train.shape[1], 1, img_rows, img_cols)\n",
    "    x_test = x_test.reshape(x_test.shape[0], x_train.shape[1], 1, img_rows, img_cols)\n",
    "    input_shape = (1, img_rows, img_cols)\n",
    "else:\n",
    "    x_train = x_train.reshape(x_train.shape[0], x_train.shape[1], img_rows, img_cols, 1)\n",
    "    x_test = x_test.reshape(x_test.shape[0], x_train.shape[1], img_rows, img_cols, 1)\n",
    "    input_shape = (img_rows, img_cols, 1)\n",
    "\n",
    "x_train = x_train.astype('float32')\n",
    "x_test = x_test.astype('float32')\n",
    "x_train /= 255\n",
    "x_test /= 255\n",
    "print('x_train shape:', x_train.shape)\n",
    "print(x_train.shape[0], 'train samples')\n",
    "print(x_test.shape[0], 'test samples')\n",
    "\n",
    "# Creation of final_y for RNN\n",
    "y_train_final = np.zeros((60000))\n",
    "y_test_final = np.zeros((10000))\n",
    "\n",
    "for i in range(0,60000):\n",
    "    y_train_final[i] = int(ytrain[0,i]*100+ytrain[3,i]*100+ytrain[1,i]*10+ytrain[4,i]*10+ytrain[2,i]+ytrain[5,i])\n",
    "\n",
    "for i in range(0,10000):\n",
    "    y_test_final[i] = int(ytest[0,i]*100+ytest[3,i]*100+ytest[1,i]*10+ytest[4,i]*10+ytest[2,i]+ytest[5,i])\n",
    "    \n",
    "chars = '0123456789'\n",
    "ctable = CharacterTable(chars, 4)\n",
    "\n",
    "y_train_final2 = np.zeros((60000, 4, 10))\n",
    "#create the y's \n",
    "for i in range(0, 60000):\n",
    "    if y_train_final[i]/1000<1:\n",
    "        temp = '0{}'.format(int(y_train_final[i]))\n",
    "        #print(temp)\n",
    "    else:\n",
    "        temp = '{}'.format(int(y_train_final[i]))\n",
    "        #print(temp)\n",
    "    y_train_final2[i]=ctable.encode(temp)\n",
    "\n",
    "y_test_final2 = np.zeros((10000, 4, 10))\n",
    "for i in range(0, 10000):\n",
    "    if y_test_final[i]/1000<1:\n",
    "        temp = '0{}'.format(int(y_test_final[i]))\n",
    "        #print(temp)\n",
    "    else:\n",
    "        temp = '{}'.format(int(y_test_final[i]))\n",
    "        #print(temp)\n",
    "    y_test_final2[i]=ctable.encode(temp)\n",
    "    \n",
    "print(\"done preprocessing\")"
   ]
  },
  {
   "cell_type": "code",
   "execution_count": 9,
   "metadata": {
    "collapsed": false
   },
   "outputs": [
    {
     "name": "stderr",
     "output_type": "stream",
     "text": [
      "/Users/evertjanpeer/anaconda/lib/python3.5/site-packages/ipykernel/__main__.py:19: UserWarning: Update your `Model` call to the Keras 2 API: `Model(inputs=[<tf.Tenso..., outputs=Tensor(\"ti...)`\n"
     ]
    },
    {
     "name": "stdout",
     "output_type": "stream",
     "text": [
      "Train on 60000 samples, validate on 10000 samples\n",
      "Epoch 1/1\n",
      "60000/60000 [==============================] - 543s - loss: 0.3178 - acc: 0.9020 - val_loss: 0.1068 - val_acc: 0.9678\n",
      "Test loss: 0.105810460305\n",
      "Test accuracy: 0.966733333302\n"
     ]
    }
   ],
   "source": [
    "K.set_learning_phase(1)\n",
    "# CNN model definition\n",
    "\n",
    "model = Sequential()\n",
    "model.add(Conv2D(32, kernel_size=(3, 3),\n",
    "                 activation='relu',\n",
    "                 input_shape=input_shape))\n",
    "model.add(MaxPooling2D(pool_size=(2, 2)))\n",
    "model.add(Conv2D(64, (3, 3), activation='relu'))\n",
    "model.add(MaxPooling2D(pool_size=(2, 2)))\n",
    "model.add(Dropout(0.25))\n",
    "model.add(Flatten())\n",
    "model.add(Dense(128, activation='relu'))\n",
    "model.add(Dropout(0.5))\n",
    "model.add(Dense(num_classes, activation='softmax'))\n",
    "\n",
    "sequences_input = Input(shape=(6,28,28,1))\n",
    "process_seq = TimeDistributed(model)(sequences_input)\n",
    "model = Model(input=[sequences_input], output=process_seq)\n",
    "\n",
    "model.compile(loss=keras.losses.categorical_crossentropy,\n",
    "              optimizer=keras.optimizers.Adadelta(),\n",
    "              metrics=['accuracy'])\n",
    "\n",
    "# Training loop\n",
    "model.fit(x_train, y_train,\n",
    "          batch_size=batch_size,\n",
    "          epochs=epochs,\n",
    "          verbose=1,\n",
    "          validation_data=(x_test, y_test))\n",
    "score = model.evaluate(x_test, y_test, verbose=0)\n",
    "print('Test loss:', score[0])\n",
    "print('Test accuracy:', score[1])"
   ]
  },
  {
   "cell_type": "code",
   "execution_count": 13,
   "metadata": {
    "collapsed": false
   },
   "outputs": [
    {
     "name": "stdout",
     "output_type": "stream",
     "text": [
      "Build model...\n",
      "Train on 60000 samples, validate on 10000 samples\n",
      "Epoch 1/3\n",
      "60000/60000 [==============================] - 21s - loss: 1.3750 - acc: 0.4820 - val_loss: 0.5472 - val_acc: 0.8231\n",
      "Epoch 2/3\n",
      "60000/60000 [==============================] - 22s - loss: 0.3048 - acc: 0.9123 - val_loss: 0.1821 - val_acc: 0.9521\n",
      "Epoch 3/3\n",
      "60000/60000 [==============================] - 21s - loss: 0.1351 - acc: 0.9635 - val_loss: 0.1544 - val_acc: 0.9527\n",
      "Test loss: 0.157774398899\n",
      "Test accuracy: 0.951\n"
     ]
    }
   ],
   "source": [
    "# RNN model definition\n",
    "from keras.layers import RepeatVector, recurrent, Activation, TimeDistributed, Dropout\n",
    "RNN = recurrent.SimpleRNN\n",
    "HIDDEN_SIZE=128\n",
    "LAYERS = 2\n",
    "print('Build model...')\n",
    "rnn = Sequential()\n",
    "rnn.add(RNN(HIDDEN_SIZE, input_shape=(6,10)))\n",
    "rnn.add(RepeatVector(3 + 1))\n",
    "for _ in range(LAYERS):\n",
    "    rnn.add(RNN(HIDDEN_SIZE, return_sequences=True))\n",
    "\n",
    "rnn.add(Dropout(.2))\n",
    "\n",
    "rnn.add(TimeDistributed(Dense(len(chars))))\n",
    "rnn.add(Activation('softmax'))\n",
    "\n",
    "rnn.compile(loss='categorical_crossentropy',\n",
    "              optimizer='adam',\n",
    "              metrics=['accuracy'])\n",
    "\n",
    "# Training Loop for RNN\n",
    "rnn.fit(y_train,y_train_final2,\n",
    "          batch_size=batch_size,\n",
    "          epochs=epochs*3,\n",
    "          verbose=1,\n",
    "          validation_data=(y_test, y_test_final2))\n",
    "\n",
    "score = rnn.evaluate(y_test, y_test_final2, verbose=0)\n",
    "print('Test loss:', score[0])\n",
    "print('Test accuracy:', score[1])"
   ]
  },
  {
   "cell_type": "code",
   "execution_count": 105,
   "metadata": {
    "collapsed": false
   },
   "outputs": [
    {
     "name": "stdout",
     "output_type": "stream",
     "text": [
      "Build final model...\n",
      "Evaluating performance total model...\n",
      "10000/10000 [==============================] - 32s    \n",
      "Test loss: 1.25394978209\n",
      "Test accuracy: 0.826225\n"
     ]
    }
   ],
   "source": [
    "# Build final model \n",
    "print('Build final model...')\n",
    "Final_model = Sequential()\n",
    "Final_model.add(model)\n",
    "Final_model.add(rnn)\n",
    "Final_model.compile(loss='categorical_crossentropy',\n",
    "              optimizer='adam',\n",
    "              metrics=['accuracy'])\n",
    "print('Evaluating performance total model...')\n",
    "#model is already trained, see how it performs\n",
    "score = Final_model.evaluate(x_test, y_test_final2)\n",
    "print('Test loss:', score[0])\n",
    "print('Test accuracy:', score[1])"
   ]
  },
  {
   "cell_type": "code",
   "execution_count": 104,
   "metadata": {
    "collapsed": false,
    "scrolled": false
   },
   "outputs": [
    {
     "name": "stdout",
     "output_type": "stream",
     "text": [
      "input one:\n"
     ]
    },
    {
     "data": {
      "application/pdf": "[encoded data removed]",
      "image/png": "[encoded data removed]",
      "text/plain": [
       "<matplotlib.figure.Figure at 0x11d734e48>"
      ]
     },
     "metadata": {},
     "output_type": "display_data"
    },
    {
     "name": "stdout",
     "output_type": "stream",
     "text": [
      "input two:\n"
     ]
    },
    {
     "data": {
      "application/pdf": "[encoded data removed]",
      "image/png": "[encoded data removed]",
      "text/plain": [
       "<matplotlib.figure.Figure at 0x12ab9cdd8>"
      ]
     },
     "metadata": {},
     "output_type": "display_data"
    },
    {
     "name": "stdout",
     "output_type": "stream",
     "text": [
      "compute sum...\n",
      "1/1 [==============================] - 0s\n",
      "computed sum = [[1 0 6 1]]\n",
      "true sum = 1061\n",
      "\n",
      "input one:\n"
     ]
    },
    {
     "data": {
      "application/pdf": "[encoded data removed]",
      "image/png": "[encoded data removed]",
      "text/plain": [
       "<matplotlib.figure.Figure at 0x11bb42630>"
      ]
     },
     "metadata": {},
     "output_type": "display_data"
    },
    {
     "name": "stdout",
     "output_type": "stream",
     "text": [
      "input two:\n"
     ]
    },
    {
     "data": {
      "application/pdf": "[encoded data removed]",
      "image/png": "[encoded data removed]",
      "text/plain": [
       "<matplotlib.figure.Figure at 0x11da05198>"
      ]
     },
     "metadata": {},
     "output_type": "display_data"
    },
    {
     "name": "stdout",
     "output_type": "stream",
     "text": [
      "compute sum...\n",
      "1/1 [==============================] - 0s\n",
      "computed sum = [[0 9 9 5]]\n",
      "true sum = 995\n",
      "\n",
      "input one:\n"
     ]
    },
    {
     "data": {
      "application/pdf": "[encoded data removed]",
      "image/png": "[encoded data removed]",
      "text/plain": [
       "<matplotlib.figure.Figure at 0x129e3b668>"
      ]
     },
     "metadata": {},
     "output_type": "display_data"
    },
    {
     "name": "stdout",
     "output_type": "stream",
     "text": [
      "input two:\n"
     ]
    },
    {
     "data": {
      "application/pdf": "[encoded data removed]",
      "image/png": "[encoded data removed]",
      "text/plain": [
       "<matplotlib.figure.Figure at 0x116cb4240>"
      ]
     },
     "metadata": {},
     "output_type": "display_data"
    },
    {
     "name": "stdout",
     "output_type": "stream",
     "text": [
      "compute sum...\n",
      "1/1 [==============================] - 0s\n",
      "computed sum = [[1 9 1 3]]\n",
      "true sum = 1813\n",
      "\n"
     ]
    }
   ],
   "source": [
    "# EG: let's see the first test example \n",
    "\n",
    "# show some examples: \n",
    "\n",
    "for examples in range(0,3):\n",
    "    print(\"input one:\")\n",
    "    for i in range(3):\n",
    "        plt.subplot(1,6,i+1)\n",
    "        plt.imshow(x_test[examples][i].reshape((28,28)), cmap='Greys_r')\n",
    "        plt.axis('off')\n",
    "    plt.show()\n",
    "\n",
    "    print(\"input two:\")\n",
    "    for i in range(3,6):\n",
    "        plt.subplot(1,6,i+1)\n",
    "        plt.imshow(x_test[examples][i].reshape((28,28)), cmap='Greys_r')\n",
    "        plt.axis('off')\n",
    "    plt.show()\n",
    "\n",
    "    print(\"compute sum...\")\n",
    "    print(\"computed sum = {}\".format(Final_model.predict_classes(np.array([x_test[examples]]))))\n",
    "    print(\"true sum = {}\\n\".format(int(y_test_final[examples])))\n",
    "\n"
   ]
  }
 ],
 "metadata": {
  "anaconda-cloud": {},
  "kernelspec": {
   "display_name": "Python [conda root]",
   "language": "python",
   "name": "conda-root-py"
  },
  "language_info": {
   "codemirror_mode": {
    "name": "ipython",
    "version": 3
   },
   "file_extension": ".py",
   "mimetype": "text/x-python",
   "name": "python",
   "nbconvert_exporter": "python",
   "pygments_lexer": "ipython3",
   "version": "3.5.2"
  }
 },
 "nbformat": 4,
 "nbformat_minor": 1
}
